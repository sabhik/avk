{
  "nbformat": 4,
  "nbformat_minor": 0,
  "metadata": {
    "colab": {
      "name": "Untitled0.ipynb",
      "version": "0.3.2",
      "provenance": [],
      "include_colab_link": true
    },
    "kernelspec": {
      "name": "python3",
      "display_name": "Python 3"
    }
  },
  "cells": [
    {
      "cell_type": "markdown",
      "metadata": {
        "id": "view-in-github",
        "colab_type": "text"
      },
      "source": [
        "[View in Colaboratory](https://colab.research.google.com/github/sabhik/avk/blob/master/day5-July9/reduce.ipynb)"
      ]
    },
    {
      "metadata": {
        "id": "PSfgh7pOzX3q",
        "colab_type": "code",
        "colab": {}
      },
      "cell_type": "code",
      "source": [
        "\n"
      ],
      "execution_count": 0,
      "outputs": []
    },
    {
      "metadata": {
        "id": "LrgiBBAmzxVj",
        "colab_type": "text"
      },
      "cell_type": "markdown",
      "source": [
        "##REDUCING LOSS:LEARNING RATE\n"
      ]
    },
    {
      "metadata": {
        "id": "6mRvuAWP0JEs",
        "colab_type": "code",
        "colab": {
          "base_uri": "https://localhost:8080/",
          "height": 231
        },
        "outputId": "5dd8aba6-94c7-4096-843f-07e7fb334587"
      },
      "cell_type": "code",
      "source": [
        "import tensorflow as tf\n",
        "import numpy as np\n",
        "\n",
        "def add_layer(inputs, in_size, out_size, activation_function=None):\n",
        "  Weight = tf.Variable(tf.random_normal([in_size, out_size]))\n",
        "  biases = tf.Variable(tf.zeros(1,out_size)+0.1)\n",
        "  Wx_plus_b =tf.matmul(inputs,Weight)\n",
        "  \n",
        "  if activation_function is None:\n",
        "    outputs =Wx_plus_b\n",
        "  else:\n",
        "    outputs =activation_function(Wx_plus_b)\n",
        "  return outputs\n",
        "\n",
        "#make up soem real data\n",
        "x_data = np.linspace(-1,1,300)[:np.newaxis]\n",
        "noise = np.random.normal(0, 0.05, x_data.shape)\n",
        "y_data = np.square(x_data)-0.5\n",
        "\n",
        "#difin placeholder for inputs to network\n",
        "xs = tf.placeholder(tf.float32,[None,1])\n",
        "ys = tf.placeholder(tf.float32,[None,1])\n",
        "\n",
        "# add hidden layer\n",
        "l1 =  add_layer(xs,1,10,actionvetion_function=tf.nn.relur)\n",
        "\n",
        "\n",
        "#the error between predction and real data\n",
        "loss = tf.reduce_mean(tf.reduce_sum (tf.square(ys- predction), reduction_indices=[1]))\n",
        "train_step = tf.train.GradientDescentOptimizer\n",
        "\n",
        "init = tf.initialize_all_variables() \n",
        "\n",
        "sess = tf.Session()\n",
        "sess.run(init)\n",
        "\n"
      ],
      "execution_count": 1,
      "outputs": [
        {
          "output_type": "error",
          "ename": "AttributeError",
          "evalue": "ignored",
          "traceback": [
            "\u001b[0;31m---------------------------------------------------------------------------\u001b[0m",
            "\u001b[0;31mAttributeError\u001b[0m                            Traceback (most recent call last)",
            "\u001b[0;32m<ipython-input-1-1f2bf33e8579>\u001b[0m in \u001b[0;36m<module>\u001b[0;34m()\u001b[0m\n\u001b[1;32m     23\u001b[0m \u001b[0;34m\u001b[0m\u001b[0m\n\u001b[1;32m     24\u001b[0m \u001b[0;31m# add hidden layer\u001b[0m\u001b[0;34m\u001b[0m\u001b[0;34m\u001b[0m\u001b[0m\n\u001b[0;32m---> 25\u001b[0;31m \u001b[0ml1\u001b[0m \u001b[0;34m=\u001b[0m  \u001b[0madd_layer\u001b[0m\u001b[0;34m(\u001b[0m\u001b[0mxs\u001b[0m\u001b[0;34m,\u001b[0m\u001b[0;36m1\u001b[0m\u001b[0;34m,\u001b[0m\u001b[0;36m10\u001b[0m\u001b[0;34m,\u001b[0m\u001b[0mactionvetion_function\u001b[0m\u001b[0;34m=\u001b[0m\u001b[0mtf\u001b[0m\u001b[0;34m.\u001b[0m\u001b[0mnn\u001b[0m\u001b[0;34m.\u001b[0m\u001b[0mrelur\u001b[0m\u001b[0;34m)\u001b[0m\u001b[0;34m\u001b[0m\u001b[0m\n\u001b[0m\u001b[1;32m     26\u001b[0m \u001b[0;34m\u001b[0m\u001b[0m\n\u001b[1;32m     27\u001b[0m \u001b[0;34m\u001b[0m\u001b[0m\n",
            "\u001b[0;31mAttributeError\u001b[0m: module 'tensorflow.nn' has no attribute 'relur'"
          ]
        }
      ]
    },
    {
      "metadata": {
        "id": "3REmLab6znra",
        "colab_type": "text"
      },
      "cell_type": "markdown",
      "source": [
        ""
      ]
    },
    {
      "metadata": {
        "id": "Y8hj3rHIzi_Y",
        "colab_type": "text"
      },
      "cell_type": "markdown",
      "source": [
        ""
      ]
    }
  ]
}