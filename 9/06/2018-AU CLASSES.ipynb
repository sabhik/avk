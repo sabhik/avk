{
  "nbformat": 4,
  "nbformat_minor": 0,
  "metadata": {
    "colab": {
      "name": "Untitled1.ipynb",
      "version": "0.3.2",
      "provenance": [],
      "include_colab_link": true
    },
    "kernelspec": {
      "name": "python3",
      "display_name": "Python 3"
    }
  },
  "cells": [
    {
      "cell_type": "markdown",
      "metadata": {
        "id": "view-in-github",
        "colab_type": "text"
      },
      "source": [
        "[View in Colaboratory](https://colab.research.google.com/github/sabhik/avk/blob/master/9/06/2018-AU%20CLASSES.ipynb)"
      ]
    },
    {
      "metadata": {
        "id": "QdFPg5tNFcS_",
        "colab_type": "code",
        "colab": {}
      },
      "cell_type": "code",
      "source": [
        ""
      ],
      "execution_count": 0,
      "outputs": []
    },
    {
      "metadata": {
        "id": "wIL_I0w1FeJD",
        "colab_type": "text"
      },
      "cell_type": "markdown",
      "source": [
        "##MACHINE LEARNING-2"
      ]
    },
    {
      "metadata": {
        "id": "G2JQLieBFweH",
        "colab_type": "code",
        "colab": {
          "base_uri": "https://localhost:8080/",
          "height": 258
        },
        "outputId": "a51c56f3-5e67-4301-deeb-04a907028827"
      },
      "cell_type": "code",
      "source": [
        "import tensorflow as tf\n",
        "import numpy as np\n",
        "\n",
        "#creat data\n",
        "x_data = np.random.rand(100).astype(np.float32)\n",
        "y_data = x_data * 0.1 +0.3\n",
        "\n",
        "#creat tensorflow structure start\n",
        "Weight = tf.Variable(tf.random_uniform([1], -1.0,1.0))\n",
        "biases =  tf.Variable(tf.zeros([1]))\n",
        "y = Weight * x_data + biases\n",
        "\n",
        "\n",
        "#loss(MSE)\n",
        "loss = tf.reduce_mean(tf.square(y-y_data))\n",
        "optimizer = tf.train.GradientDescentOptimizer(0.5)\n",
        "train = optimizer.minimize(loss)\n",
        "\n",
        "\n",
        "init = tf.initialize_all_variables()\n",
        "#creat tensorflow structure end\n",
        "\n",
        "\n",
        "sess = tf.Session() # tensorflow \n",
        "sess.run(init) #Very important\n",
        "\n",
        "for step in range (200):\n",
        "    sess.run(train)\n",
        "    if step % 20 == 0:\n",
        "        print (step, sess.run(Weight), sess.run(biases))\n",
        "\n",
        "sess.close()\n"
      ],
      "execution_count": 1,
      "outputs": [
        {
          "output_type": "stream",
          "text": [
            "WARNING:tensorflow:From /usr/local/lib/python3.6/dist-packages/tensorflow/python/util/tf_should_use.py:118: initialize_all_variables (from tensorflow.python.ops.variables) is deprecated and will be removed after 2017-03-02.\n",
            "Instructions for updating:\n",
            "Use `tf.global_variables_initializer` instead.\n",
            "0 [-0.1546027] [0.60507804]\n",
            "20 [0.01983645] [0.34302202]\n",
            "40 [0.08021403] [0.3106187]\n",
            "60 [0.09511642] [0.30262092]\n",
            "80 [0.09879463] [0.3006469]\n",
            "100 [0.09970249] [0.30015966]\n",
            "120 [0.09992657] [0.3000394]\n",
            "140 [0.09998187] [0.30000973]\n",
            "160 [0.09999553] [0.30000243]\n",
            "180 [0.09999891] [0.3000006]\n"
          ],
          "name": "stdout"
        }
      ]
    },
    {
      "metadata": {
        "id": "mj065g6qFoPs",
        "colab_type": "code",
        "colab": {}
      },
      "cell_type": "code",
      "source": [
        ""
      ],
      "execution_count": 0,
      "outputs": []
    },
    {
      "metadata": {
        "id": "QbW1pzCtFtbb",
        "colab_type": "text"
      },
      "cell_type": "markdown",
      "source": [
        ""
      ]
    },
    {
      "metadata": {
        "id": "t_aHXMXvFqn9",
        "colab_type": "text"
      },
      "cell_type": "markdown",
      "source": [
        ""
      ]
    },
    {
      "metadata": {
        "id": "Z2M7VcxcFnXT",
        "colab_type": "code",
        "colab": {}
      },
      "cell_type": "code",
      "source": [
        ""
      ],
      "execution_count": 0,
      "outputs": []
    },
    {
      "metadata": {
        "id": "R7H3p8xEFmRT",
        "colab_type": "code",
        "colab": {}
      },
      "cell_type": "code",
      "source": [
        ""
      ],
      "execution_count": 0,
      "outputs": []
    }
  ]
}